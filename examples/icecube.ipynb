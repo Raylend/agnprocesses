{
 "cells": [
  {
   "cell_type": "code",
   "execution_count": 1,
   "metadata": {},
   "outputs": [],
   "source": [
    "import numpy as np\n",
    "import matplotlib.pyplot as plt\n",
    "\n",
    "from scipy.integrate import simps\n",
    "from astropy import units as u\n",
    "from astropy import constants as const\n",
    "\n",
    "from matplotlib.ticker import (MultipleLocator,\n",
    "                               FormatStrFormatter,\n",
    "                               AutoMinorLocator)\n",
    "import matplotlib.ticker as ticker"
   ]
  },
  {
   "cell_type": "code",
   "execution_count": 2,
   "metadata": {},
   "outputs": [],
   "source": [
    "from agnprocesses import cosmology, synchro, ic, pgamma, bh, gamma_gamma, ebl\n",
    "from agnprocesses import spectra as spec"
   ]
  },
  {
   "cell_type": "markdown",
   "metadata": {},
   "source": [
    "# Geometry definition"
   ]
  },
  {
   "cell_type": "code",
   "execution_count": 3,
   "metadata": {},
   "outputs": [
    {
     "name": "stdout",
     "output_type": "stream",
     "text": [
      "d_l = 5.643309e+27 cm\n",
      "B = 6.900000e+01 g(1/2) / (cm(1/2) s)\n"
     ]
    }
   ],
   "source": [
    "doppler = 30.0\n",
    "Gamma = doppler / 2.0\n",
    "r_b = 1.0e+17 * u.cm\n",
    "z = 0.3365\n",
    "d_l = cosmology.luminosity_distance(z).to(u.cm)\n",
    "print(\"d_l = {:.6e}\".format(d_l))\n",
    "b = 69.0 * u.g**0.5 * u.cm**(-0.5) * u.s**(-1)\n",
    "print(\"B = {:.6e}\".format(b))"
   ]
  },
  {
   "cell_type": "markdown",
   "metadata": {},
   "source": [
    "# External photon field definition"
   ]
  },
  {
   "cell_type": "code",
   "execution_count": 4,
   "metadata": {},
   "outputs": [],
   "source": [
    "en_ext = np.logspace(np.log10(1.33), np.log10(10.0), 100) * u.eV\n",
    "en_ext_blob = 4.0 / 3.0 * Gamma * en_ext\n",
    "boost = 2.0 * 4.0 / 3.0 * Gamma**2\n",
    "alpha = 2.0\n",
    "K = 3e+03 / (u.eV * u.cm**3)\n",
    "n_ext = spec.power_law(en_ext, alpha, norm=K)\n",
    "n_ext_blob = n_ext * boost\n",
    "field_ext = np.concatenate(\n",
    "    (en_ext_blob.value.reshape(en_ext_blob.shape[0], 1),\n",
    "        n_ext_blob.value.reshape(n_ext_blob.shape[0], 1)),\n",
    "    axis=1)"
   ]
  },
  {
   "cell_type": "markdown",
   "metadata": {},
   "source": [
    "# Processes\n",
    "\n",
    "## Synchrotron"
   ]
  },
  {
   "cell_type": "code",
   "execution_count": 5,
   "metadata": {},
   "outputs": [
    {
     "name": "stdout",
     "output_type": "stream",
     "text": [
      "Doppler * e_e_break**2 * B = 3.171e+08 g(1/2) / (cm(1/2) s)\n"
     ]
    }
   ],
   "source": [
    "norm_e = 3.8e+38 * u.eV**(-1)\n",
    "gamma1 = 1.9\n",
    "gamma2 = 4.4\n",
    "e_br = 2.0e+08 * u.eV\n",
    "e_min_e = 5.0e+06 * u.eV\n",
    "e_max_e = 1.0e+12 * u.eV\n",
    "e_e = np.logspace(np.log10(e_min_e.to(u.eV).value),\n",
    "                    np.log10(e_max_e.to(u.eV).value), 100) * u.eV\n",
    "print(\"Doppler * e_e_break**2 * B = {:.3e}\".format(\n",
    "    doppler * (e_br / const.m_e.to(e_br.unit, u.mass_energy()))**2 * b\n",
    "))\n",
    "\n",
    "synchro_epsilon = np.logspace(-5.5, 4, 1000) * u.eV\n",
    "nu = (synchro_epsilon / const.h).to(u.Hz)\n",
    "synchro_spec = synchro.derishev_synchro_spec(\n",
    "    nu, b,\n",
    "    norm=norm_e, spec_law='broken_power_law',\n",
    "    gamma1=gamma1, gamma2=gamma2, en_break=e_br, en_min=e_min_e, en_max=e_max_e\n",
    ")"
   ]
  },
  {
   "cell_type": "markdown",
   "metadata": {},
   "source": [
    "## SSA"
   ]
  },
  {
   "cell_type": "code",
   "execution_count": 6,
   "metadata": {},
   "outputs": [],
   "source": [
    "ssa_tau = synchro.ssa_broken_power_law(\n",
    "    synchro_epsilon, b, norm_e, gamma1, gamma2, e_br, r_b\n",
    ")\n",
    "ssa_abs_coeff = synchro.dermer_sphere_absorption_coefficient(ssa_tau)\n",
    "\n",
    "synchro_spec = synchro_spec * ssa_abs_coeff\n",
    "synchro_density = synchro_spec / (4.0 / 3.0 * np.pi * r_b**2 * const.c.to(\n",
    "    u.cm / u.s)\n",
    ")\n",
    "field_synchro = spec.create_2column_table(synchro_epsilon, synchro_density)\n",
    "synchro_e = synchro_epsilon / (1.0 + z) * doppler\n",
    "synchro_sed = synchro_epsilon**2 * synchro_spec\n",
    "synchro_sed = synchro_sed * doppler**4 / (4.0 * np.pi * d_l**2)"
   ]
  },
  {
   "cell_type": "markdown",
   "metadata": {},
   "source": [
    "## Inverse Compton effect"
   ]
  },
  {
   "cell_type": "code",
   "execution_count": 7,
   "metadata": {},
   "outputs": [
    {
     "name": "stdout",
     "output_type": "stream",
     "text": [
      "ic_sed.unit = eV / (cm2 s)\n"
     ]
    }
   ],
   "source": [
    "ic_e = np.logspace(0, 11.5, 100) * u.eV\n",
    "ic_spec = ic.inverse_compton_spec(\n",
    "    ic_e,\n",
    "    field_synchro,\n",
    "    norm=norm_e,\n",
    "    spec_law=\"broken_power_law\",\n",
    "    gamma1=gamma1,\n",
    "    gamma2=gamma2,\n",
    "    en_break=e_br,\n",
    "    en_min=e_min_e,\n",
    "    en_max=e_max_e,\n",
    "    background_photon_energy_unit=en_ext_blob.unit,\n",
    "    background_photon_density_unit=n_ext_blob.unit,\n",
    ")\n",
    "ic_sed = ic_e ** 2 * ic_spec\n",
    "ic_e *= doppler / (1.0 + z)\n",
    "ic_sed *= doppler ** 4 / (4.0 * np.pi * d_l ** 2)\n",
    "print(\"ic_sed.unit = {}\".format(ic_sed.unit))\n",
    "summ_e, summ_sed = spec.summ_spectra(synchro_e, synchro_sed, ic_e, ic_sed, nbin=100)\n"
   ]
  },
  {
   "cell_type": "markdown",
   "metadata": {},
   "source": [
    "## Photo-hadron processes\n",
    "\n",
    "### Proton spectrum"
   ]
  },
  {
   "cell_type": "code",
   "execution_count": 8,
   "metadata": {},
   "outputs": [
    {
     "name": "stdout",
     "output_type": "stream",
     "text": [
      "C_p = 2.500000e+65 1 / eV\n",
      "proton energy density in the blob = 1.713333e+02 erg / cm3\n",
      "observable proton luminosity in the lab frame = 3.630737e+49 erg / s\n",
      "magnetic field density in the blob = 1.894342e+02 erg / cm3\n"
     ]
    }
   ],
   "source": [
    "energy_proton_min = 1.0e14 * u.eV  # 3.0e+14 * u.eV\n",
    "energy_proton_max = 6.0e14 * u.eV\n",
    "en_p = energy_proton_min.unit * np.logspace(\n",
    "    np.log10(energy_proton_min.to(u.eV).value), np.log10(energy_proton_max.to(u.eV).value), 100\n",
    ")\n",
    "p_p = 2.0\n",
    "C_p = 2.5e65 * u.eV**(-1)\n",
    "print(\"C_p = {:.6e}\".format(C_p))\n",
    "proton_spectrum = spec.power_law(en_p, p_p, norm=C_p, en_ref=1.0 * u.eV)\n",
    "u_p = (\n",
    "    simps(proton_spectrum.value * en_p.value, en_p.value)\n",
    "    * proton_spectrum.unit\n",
    "    * en_p.unit**2\n",
    "    / (4.0 / 3.0 * np.pi * r_b**3)\n",
    ")\n",
    "u_p = u_p.to(u.erg / u.cm**3)\n",
    "print(\"proton energy density in the blob = {:.6e}\".format(u_p))\n",
    "L_p = np.pi * r_b**2 * const.c.cgs * (doppler / 2.0)**2 * u_p\n",
    "print(\"observable proton luminosity in the lab frame = {:.6e}\".format(L_p))\n",
    "u_b = (b**2 / (8.0 * np.pi)).to(u.erg / u.cm**3)\n",
    "print(\"magnetic field density in the blob = {:.6e}\".format(u_b))\n"
   ]
  },
  {
   "cell_type": "markdown",
   "metadata": {},
   "source": [
    "### Photo-hadron process"
   ]
  },
  {
   "cell_type": "code",
   "execution_count": 9,
   "metadata": {},
   "outputs": [],
   "source": [
    "(\n",
    "    neutrino_e, neutrino_sed, helectron_e, helectron_sed, hgamma_e, hgamma_sed\n",
    ") = pgamma.kelner_pgamma_calculate(\n",
    "    field_ext, energy_proton_min, energy_proton_max, p_p, e_cut_p=-1, C_p=C_p\n",
    ")"
   ]
  },
  {
   "cell_type": "markdown",
   "metadata": {},
   "source": [
    "### First hadron synchro"
   ]
  },
  {
   "cell_type": "code",
   "execution_count": 10,
   "metadata": {},
   "outputs": [],
   "source": [
    "first_hadron_electron = spec.create_2column_table(helectron_e, helectron_sed)\n",
    "first_synchro_e = np.logspace(7.0, 12.0, 100) * u.eV\n",
    "nu_first_synchro = (first_synchro_e / const.h).to(u.Hz)\n",
    "first_synchro_spec = synchro.derishev_synchro_table(\n",
    "    nu_first_synchro,\n",
    "    first_hadron_electron,\n",
    "    b=b,\n",
    "    electron_energy_unit=helectron_e.unit,\n",
    "    electron_sed_unit=helectron_sed.unit,\n",
    "    number_of_integration=100,\n",
    "    particle_mass=const.m_e.cgs,\n",
    "    particle_charge=const.e.gauss\n",
    ")\n",
    "y = ((const.h * nu_first_synchro).to(u.eV) * first_synchro_spec)\n",
    "x = first_synchro_e\n",
    "first_synchro_full_energy = simps(y.value, x.value) * y.unit * x.unit\n",
    "helectron_full_energy = simps(\n",
    "    (helectron_sed / helectron_e).value, helectron_e.value\n",
    ") * helectron_sed.unit\n",
    "t_cool0 = helectron_full_energy / first_synchro_full_energy\n",
    "first_synchro_full_energy = first_synchro_full_energy * t_cool0\n",
    "first_synchro_sed = first_synchro_e**2 * first_synchro_spec\n",
    "first_synchro_e = first_synchro_e * doppler / (1.0 + z)\n",
    "first_synchro_sed = first_synchro_sed * \\\n",
    "    doppler**4 / (4.0 * np.pi * d_l**2)\n",
    "first_synchro_sed = first_synchro_sed * t_cool0"
   ]
  },
  {
   "cell_type": "markdown",
   "metadata": {},
   "source": [
    "### Hadron gamma-gamma pairs"
   ]
  },
  {
   "cell_type": "code",
   "execution_count": 11,
   "metadata": {},
   "outputs": [],
   "source": [
    "# External photon field\n",
    "en_ext2 = np.logspace(np.log10(1.33), np.log10(10.0), 1000) * u.eV\n",
    "en_ext_blob2 = 4.0 / 3.0 * Gamma * en_ext2\n",
    "boost = 2.0 * 4.0 / 3.0 * Gamma**2\n",
    "alpha = 2.0\n",
    "K = 3e+03 / (u.eV * u.cm**3)\n",
    "n_ext2 = spec.power_law(en_ext2, alpha, norm=K)\n",
    "n_ext_blob2 = n_ext2 * boost\n",
    "field_ext2 = np.concatenate(\n",
    "    (\n",
    "        en_ext_blob2.value.reshape(en_ext_blob2.shape[0], 1),\n",
    "        n_ext_blob2.value.reshape(n_ext_blob2.shape[0], 1)\n",
    "    ),\n",
    "    axis=1\n",
    ")"
   ]
  },
  {
   "cell_type": "code",
   "execution_count": 12,
   "metadata": {},
   "outputs": [],
   "source": [
    "gamma = np.concatenate(\n",
    "    (hgamma_e.value.reshape(hgamma_e.shape[0], 1),\n",
    "    hgamma_sed.value.reshape(hgamma_sed.shape[0], 1)),\n",
    "    axis=1\n",
    ")\n",
    "\n",
    "hadpair_e, hadpair_sed = gamma_gamma.pair_production(\n",
    "    field_synchro,\n",
    "    gamma,\n",
    "    background_photon_energy_unit=en_ext_blob.unit,\n",
    "    background_photon_density_unit=n_ext_blob.unit,\n",
    "    gamma_energy_unit=hgamma_e.unit,\n",
    "    gamma_sed_unit=hgamma_sed.unit\n",
    ")\n",
    "\n",
    "second_electron = np.concatenate(\n",
    "    (\n",
    "        hadpair_e.value.reshape(hadpair_e.shape[0], 1),\n",
    "        hadpair_sed.value.reshape(hadpair_sed.shape[0], 1)\n",
    "    ),\n",
    "    axis=1\n",
    ")\n",
    "\n",
    "second_synchro_e = np.logspace(5.0, 12.0, 100) * u.eV\n",
    "nu_second_synchro = (second_synchro_e / const.h).to(u.Hz)\n",
    "second_synchro_spec = synchro.derishev_synchro_table(\n",
    "    nu_second_synchro,\n",
    "    second_electron,\n",
    "    b=b,\n",
    "    electron_energy_unit=hadpair_e.unit,\n",
    "    electron_sed_unit=hadpair_sed.unit,\n",
    "    number_of_integration=100,\n",
    "    particle_mass=const.m_e.cgs,\n",
    "    particle_charge=const.e.gauss\n",
    ")\n",
    "y = ((const.h * nu_second_synchro).to(u.eV) * second_synchro_spec)\n",
    "x = second_synchro_e\n",
    "second_synchro_full_energy = simps(y.value,\n",
    "                                    x.value) * y.unit * x.unit\n",
    "hadpair_full_energy = simps((hadpair_sed / hadpair_e).value,\n",
    "                            hadpair_e.value) * hadpair_sed.unit\n",
    "t_cool2 = hadpair_full_energy / second_synchro_full_energy\n",
    "second_synchro_full_energy = second_synchro_full_energy * t_cool2\n",
    "second_synchro_sed = second_synchro_e**2 * second_synchro_spec\n",
    "second_synchro_e = second_synchro_e * doppler / (1.0 + z)\n",
    "second_synchro_sed = second_synchro_sed * doppler**4 / (4.0 * np.pi * d_l**2)\n",
    "second_synchro_sed = second_synchro_sed * t_cool2"
   ]
  },
  {
   "cell_type": "code",
   "execution_count": 13,
   "metadata": {},
   "outputs": [],
   "source": [
    "hadpair_e = hadpair_e * doppler / (1.0 + z)\n",
    "hadpair_sed = hadpair_sed * doppler**4 / (4.0 * np.pi * d_l**2)"
   ]
  },
  {
   "cell_type": "code",
   "execution_count": 14,
   "metadata": {},
   "outputs": [],
   "source": [
    "neutrino_e = neutrino_e * doppler / (1.0 + z)\n",
    "neutrino_sed = neutrino_sed * doppler**4 / (4.0 * np.pi * d_l**2)\n",
    "helectron_e = helectron_e * doppler / (1.0 + z)\n",
    "helectron_sed = helectron_sed * doppler**4 / (4.0 * np.pi * d_l**2)\n",
    "hgamma_e = hgamma_e * doppler / (1.0 + z)\n",
    "hgamma_sed = hgamma_sed * doppler**4 / (4.0 * np.pi * d_l**2)"
   ]
  },
  {
   "cell_type": "markdown",
   "metadata": {},
   "source": [
    "### Bethe-Heitler process"
   ]
  },
  {
   "cell_type": "code",
   "execution_count": 15,
   "metadata": {},
   "outputs": [],
   "source": [
    "from agnprocesses.data_classes import SpatialSpectralPhotonDensity\n",
    "\n",
    "\n",
    "bh_pair_sed = bh.kelner_bh_calculate(\n",
    "    E_proton_min=energy_proton_min,\n",
    "    E_proton_max=energy_proton_max,\n",
    "    background_photon_field=SpatialSpectralPhotonDensity.from_numpy(field_ext),\n",
    "    proton_spectrum_gamma=p_p,\n",
    "    proton_spectrum_E_cut=None,\n",
    "    proton_spectrum_norm=C_p\n",
    ")\n",
    "\n",
    "electron = bh_pair_sed.to_numpy()\n",
    "\n",
    "bh_pair_e = bh_pair_sed.E\n",
    "bh_pair_sed = bh_pair_sed.q\n"
   ]
  },
  {
   "cell_type": "markdown",
   "metadata": {},
   "source": [
    "### BH synchro"
   ]
  },
  {
   "cell_type": "code",
   "execution_count": 16,
   "metadata": {},
   "outputs": [
    {
     "name": "stdout",
     "output_type": "stream",
     "text": [
      "t_cool = 1.60e-01 s\n",
      "bh_synchro_full_energy = 1.32e+53 eV / s\n",
      "bh_pair_full_energy = 1.32e+53 eV / s\n",
      "bh_pair_sed.unit = eV / (cm2 s)\n",
      "bh_synchro_sed.unit = eV / (cm2 s)\n"
     ]
    }
   ],
   "source": [
    "nu_bh = (np.logspace(0.5, 12.0, 100) * u.eV / const.h).to(u.Hz)\n",
    "bh_synchro_spec = synchro.derishev_synchro_table(\n",
    "    nu_bh,\n",
    "    electron,\n",
    "    b=b,\n",
    "    electron_energy_unit=bh_pair_e.unit,\n",
    "    electron_sed_unit=bh_pair_sed.unit,\n",
    "    number_of_integration=100,\n",
    "    particle_mass=const.m_e.cgs,\n",
    "    particle_charge=const.e.gauss\n",
    ")\n",
    "y = ((const.h * nu_bh).to(u.eV) * bh_synchro_spec)\n",
    "x = (const.h * nu_bh).to(u.eV)\n",
    "bh_synchro_full_energy = simps(y.value,\n",
    "                                x.value) * y.unit * x.unit\n",
    "bh_pair_full_energy = simps((bh_pair_sed / bh_pair_e).value,\n",
    "                            bh_pair_e.value) * bh_pair_sed.unit\n",
    "t_cool = bh_pair_full_energy / bh_synchro_full_energy\n",
    "bh_synchro_full_energy = bh_synchro_full_energy * t_cool\n",
    "print(\"t_cool = {:.2e}\".format(t_cool))\n",
    "print(\"bh_synchro_full_energy = {:.2e}\".format(bh_synchro_full_energy))\n",
    "print(\"bh_pair_full_energy = {:.2e}\".format(bh_pair_full_energy))\n",
    "bh_pair_e = bh_pair_e * doppler / (1.0 + z)\n",
    "bh_pair_sed = bh_pair_sed * doppler**4 / (4.0 * np.pi * d_l**2)\n",
    "print(\"bh_pair_sed.unit = {}\".format(bh_pair_sed.unit))\n",
    "bh_synchro_e = (nu_bh * const.h).to(u.eV)\n",
    "bh_synchro_sed = bh_synchro_spec * bh_synchro_e**2\n",
    "bh_synchro_e = bh_synchro_e * doppler / (1.0 + z)\n",
    "bh_synchro_sed = bh_synchro_sed * doppler**4 / (4.0 * np.pi * d_l**2)\n",
    "bh_synchro_sed = bh_synchro_sed * t_cool\n",
    "print(\"bh_synchro_sed.unit = {}\".format(bh_synchro_sed.unit))"
   ]
  },
  {
   "cell_type": "markdown",
   "metadata": {},
   "source": [
    "## Experimental data\n",
    "\n",
    "### $\\gamma$-rays"
   ]
  },
  {
   "cell_type": "code",
   "execution_count": 17,
   "metadata": {},
   "outputs": [],
   "source": [
    "from agnprocesses.data_files import SCIENCE_2018_EXAMPLE_DATA\n",
    "data = np.loadtxt(SCIENCE_2018_EXAMPLE_DATA)\n",
    "data_en = data[:, 0]\n",
    "data_sed = data[:, 1]\n",
    "data_low = data[:, 3]\n",
    "data_up = data[:, 2]\n",
    "yerr = [data_low, data_up]"
   ]
  },
  {
   "cell_type": "markdown",
   "metadata": {},
   "source": [
    "### Neutrino"
   ]
  },
  {
   "cell_type": "code",
   "execution_count": 18,
   "metadata": {},
   "outputs": [
    {
     "name": "stdout",
     "output_type": "stream",
     "text": [
      "I_min = 1.798e-01 eV / (cm2 s), I_med = 1.798e+00 eV / (cm2 s), I_max = 2.247e+01 eV / (cm2 s)\n"
     ]
    }
   ],
   "source": [
    "# observation of the neutriono flare\n",
    "science_flare_neutrino_intensity = 1.8e-10 / 1.602e-12 * u.eV / (u.cm**2 * u.s)\n",
    "# Assuming 10 events per year as Strotjohann et al. assumed\n",
    "I_min = 2.0e-02 * science_flare_neutrino_intensity / 2.0 / 2.5**2\n",
    "I_max = 2.5e+00 * science_flare_neutrino_intensity / 2.0 / 2.5**2\n",
    "I_med = 2.0e-01 * science_flare_neutrino_intensity / 2.0 / 2.5**2\n",
    "print(\"I_min = {:.3e}, I_med = {:.3e}, I_max = {:.3e}\".format(\n",
    "    I_min, I_med, I_max\n",
    "))\n",
    "E_neu_min = 2.0e+14 * u.eV\n",
    "E_neu_max = 7.5e+15 * u.eV\n",
    "E_neu_med = 3.11e+14 * u.eV\n",
    "C_neu_min = I_min\n",
    "C_neu_max = I_max\n",
    "C_neu_med = I_med\n",
    "E_neu_min_max_long = np.logspace(np.log10(E_neu_min.value),\n",
    "                                    np.log10(E_neu_max.value)) * E_neu_min.unit\n",
    "C_neu_median_long = np.ones((50, 1)) * I_med\n",
    "C_neu_min_max_long = np.logspace(np.log10(C_neu_min.value),\n",
    "                                    np.log10(C_neu_max.value)) * C_neu_min.unit\n",
    "E_neu_average_long = np.ones((50, 1)) * E_neu_med"
   ]
  },
  {
   "cell_type": "markdown",
   "metadata": {},
   "source": [
    "# Summing spectra and applying absorption effects"
   ]
  },
  {
   "cell_type": "code",
   "execution_count": 19,
   "metadata": {},
   "outputs": [],
   "source": [
    "summ_e, summ_sed = spec.summ_spectra(synchro_e, synchro_sed, bh_synchro_e, bh_synchro_sed)\n",
    "summ_e, summ_sed = spec.summ_spectra(summ_e, summ_sed, second_synchro_e, second_synchro_sed)\n",
    "summ_e, summ_sed = spec.summ_spectra(summ_e, summ_sed, first_synchro_e, first_synchro_sed)\n",
    "\n",
    "summ_sed = summ_sed * np.exp(-ebl.tau_gilmore(summ_e, z))"
   ]
  },
  {
   "cell_type": "code",
   "execution_count": 20,
   "metadata": {},
   "outputs": [],
   "source": [
    "e_rate_min = 3.0e+09 * u.eV\n",
    "e_rate_max = 3.0e+14 * u.eV\n",
    "e_r_synchro, rate_synchro = gamma_gamma.interaction_rate(\n",
    "    field_synchro, e_rate_min, e_rate_max,\n",
    "    background_photon_energy_unit=synchro_epsilon.unit,\n",
    "    background_photon_density_unit=synchro_density.unit\n",
    ")\n",
    "e_r_ext, rate_ext = gamma_gamma.interaction_rate(\n",
    "    field_ext2, e_rate_min, e_rate_max,\n",
    "    background_photon_energy_unit=en_ext_blob.unit,\n",
    "    background_photon_density_unit=n_ext_blob.unit\n",
    ")\n",
    "tau_int_synchro = r_b * rate_synchro\n",
    "tau_int_ext = r_b * rate_ext\n",
    "\n",
    "rate = spec.to_current_energy(summ_e * (1.0 + z) / doppler,\n",
    "                                e_r_ext,\n",
    "                                rate_ext)\n",
    "tau_internal = rate * r_b"
   ]
  },
  {
   "cell_type": "markdown",
   "metadata": {},
   "source": [
    "# Plotting results"
   ]
  },
  {
   "cell_type": "code",
   "execution_count": 21,
   "metadata": {},
   "outputs": [
    {
     "data": {
      "image/png": "[encoded data removed]",
      "text/plain": [
       "<Figure size 720x576 with 1 Axes>"
      ]
     },
     "metadata": {
      "needs_background": "light"
     },
     "output_type": "display_data"
    }
   ],
   "source": [
    "summ_filter = (summ_e < 2.0 * u.TeV)\n",
    "\n",
    "fig, ax = plt.subplots(figsize=(10, 8))\n",
    "\n",
    "ax.plot(\n",
    "    summ_e[summ_filter], summ_sed[summ_filter],\n",
    "    marker=None, linestyle='-', linewidth=3, color='k',\n",
    "    label='summ /w EBL w/o internal absorption'\n",
    ")\n",
    "\n",
    "summ_sed = summ_sed * np.exp(-tau_internal)\n",
    "ax.plot(\n",
    "    summ_e[summ_filter], summ_sed[summ_filter],\n",
    "    marker=None, linestyle='-', linewidth=3, color='k',\n",
    "    label='summ /w EBL and internal absorption'\n",
    ")\n",
    "ax.plot(\n",
    "    synchro_e, synchro_sed,\n",
    "    marker=None, linestyle='--', linewidth=3, # color='r',\n",
    "    label='synchrotron with SSA'\n",
    ")\n",
    "# ax.plot(\n",
    "#     ic_e, ic_sed,\n",
    "#     marker=None, linewidth=3, linestyle='--', # color='b',\n",
    "#     label='SSC'\n",
    "# )\n",
    "ax.plot(\n",
    "    bh_pair_e, bh_pair_sed,\n",
    "    marker=None, linewidth=3, linestyle=':', # color='g',\n",
    "    label='BH electrons'\n",
    ")\n",
    "ax.plot(\n",
    "    helectron_e, helectron_sed,\n",
    "    marker=None, linewidth=3, linestyle=':', # color='g',\n",
    "    label='PhotoHadron electrons'\n",
    ")\n",
    "ax.plot(\n",
    "    hgamma_e, hgamma_sed,\n",
    "    marker=None, linewidth=3, linestyle='--', # color='g',\n",
    "    label='PhotoHadron gamma-rays'\n",
    ")\n",
    "ax.plot(\n",
    "    bh_synchro_e, bh_synchro_sed,\n",
    "    marker=None, linewidth=3, linestyle='--', # color='g',\n",
    "    label='BH synchrotron'\n",
    ")\n",
    "ax.plot(\n",
    "    first_synchro_e, first_synchro_sed,\n",
    "    marker=None, linewidth=3, linestyle='--', # color='g',\n",
    "    label='hadron electron synchrotron'\n",
    ")\n",
    "ax.plot(\n",
    "    second_synchro_e, second_synchro_sed,\n",
    "    marker=None, linewidth=3, linestyle='--', # color='g',\n",
    "    label='hadron second generation synchrotron'\n",
    ")\n",
    "ax.plot(\n",
    "    hadpair_e, hadpair_sed,\n",
    "    marker=None, linestyle=':', linewidth=3, # color='g',\n",
    "    label='hadron second generation electrons',\n",
    "    zorder=1000\n",
    ")\n",
    "\n",
    "ax.errorbar(\n",
    "    data_en, data_sed,\n",
    "    yerr=yerr, xerr=None, fmt='o', linewidth=0, elinewidth=2,\n",
    "    capsize=1, barsabove=False, markersize=5,\n",
    "    errorevery=1, capthick=1, color='r', zorder=1.0\n",
    ")\n",
    "\n",
    "ax.plot(\n",
    "    neutrino_e, neutrino_sed,\n",
    "    marker=None, linewidth=3, linestyle='-.', # color='c',\n",
    "    label='PhotoHadron muon and antimuon neutrino'\n",
    ")\n",
    "\n",
    "ax.errorbar(\n",
    "    E_neu_med.value, I_med.value,\n",
    "    yerr=np.array([(I_med - I_min).value, (I_max - I_med).value]).reshape(2, 1),\n",
    "    xerr=np.array([(E_neu_med - E_neu_min).value, (E_neu_max - E_neu_med).value]).reshape(2, 1),\n",
    "    fmt='s', linewidth=0, elinewidth=3,\n",
    "    capsize=1, barsabove=False, markersize=7,\n",
    "    errorevery=1, capthick=1, zorder=1.0,\n",
    "    label='IceCube measurement'\n",
    ")\n",
    "\n",
    "plt.xlabel('energy [' + str(ic_e.unit) + ']', fontsize=22)\n",
    "plt.xticks(fontsize=16)\n",
    "plt.ylabel('SED [' + 'eV cm$^{-2}$s$^{-1}$' + ']', fontsize=22)\n",
    "plt.yticks(fontsize=16)\n",
    "ax.set_xscale('log')\n",
    "ax.set_yscale('log')\n",
    "ax.xaxis.set_major_locator(ticker.LogLocator(\n",
    "    base=10.0, numticks=26, subs=[1, 2, 3, 4, 5, 6, 7, 8, 9]))\n",
    "\n",
    "plt.legend()\n",
    "plt.show()"
   ]
  },
  {
   "cell_type": "code",
   "execution_count": null,
   "metadata": {},
   "outputs": [],
   "source": []
  }
 ],
 "metadata": {
  "interpreter": {
   "hash": "54cbed54652c029f0564ebfd48d09cafa0f5eed2c42e8bc3dc88a6ba286882e0"
  },
  "kernelspec": {
   "display_name": "Python 3.8.5 64-bit ('agnenv': venv)",
   "name": "python3"
  },
  "language_info": {
   "codemirror_mode": {
    "name": "ipython",
    "version": 3
   },
   "file_extension": ".py",
   "mimetype": "text/x-python",
   "name": "python",
   "nbconvert_exporter": "python",
   "pygments_lexer": "ipython3",
   "version": "3.8.5"
  },
  "orig_nbformat": 4
 },
 "nbformat": 4,
 "nbformat_minor": 2
}